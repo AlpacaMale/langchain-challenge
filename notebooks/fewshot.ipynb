{
 "cells": [
  {
   "cell_type": "markdown",
   "metadata": {},
   "source": [
    "# Generate a Completion about Movie's Details\n"
   ]
  },
  {
   "cell_type": "markdown",
   "metadata": {},
   "source": [
    "## Import moduels\n"
   ]
  },
  {
   "cell_type": "code",
   "execution_count": 2,
   "metadata": {},
   "outputs": [],
   "source": [
    "from langchain_openai import ChatOpenAI\n",
    "from langchain.prompts import PromptTemplate\n",
    "from langchain.prompts.few_shot import FewShotPromptTemplate"
   ]
  },
  {
   "cell_type": "markdown",
   "metadata": {},
   "source": [
    "## Designing Prompts with LCEL and FewShotPromptTemplate\n"
   ]
  },
  {
   "cell_type": "code",
   "execution_count": 3,
   "metadata": {},
   "outputs": [],
   "source": [
    "chat = ChatOpenAI(temperature=0.1)\n",
    "\n",
    "example = [\n",
    "    {\n",
    "        \"question\": \"What do you know about movie Ironman?\",\n",
    "        \"answer\": \"\"\"\n",
    "Here is what I know:\n",
    "Director: Jon Favreau\n",
    "Starring: Robert Downey Jr., Terrence Howard, Jeff Bridges, Gwyneth Paltrow\n",
    "Budget: 130-140 million\n",
    "Box office revenue: 585 million\n",
    "Genre: Superhero\n",
    "Synopsis: Genius billionaire and weapons manufacturer Tony Stark is captured by a terrorist group while demonstrating his latest missile in the Middle East. Forced to build weapons for his captors, he secretly constructs a powerful, armored suit to escape. Upon returning home, he renounces his weapons business and refines his suit into a high-tech exoskeleton, becoming Iron Man. With his new identity, Tony fights to dismantle the very war machine he once helped create, facing powerful enemies and uncovering a deeper conspiracy that threatens the world.\n",
    "        \"\"\",\n",
    "    }\n",
    "]\n",
    "\n",
    "example_template = \"\"\"\n",
    "Human: {question}\n",
    "AI: {answer}\n",
    "\"\"\"\n",
    "\n",
    "example_prompt = PromptTemplate.from_template(\"Human: {question}\\nAI: {answer}\")\n",
    "\n",
    "prompt = FewShotPromptTemplate(\n",
    "    example_prompt=example_prompt,\n",
    "    examples=example,\n",
    "    suffix=\"Human: What do you know about movie {movie}?\",\n",
    "    input_variables=[\"movie\"],\n",
    ")\n",
    "chain = prompt | chat"
   ]
  },
  {
   "cell_type": "markdown",
   "metadata": {},
   "source": [
    "## Invoke Chain\n"
   ]
  },
  {
   "cell_type": "code",
   "execution_count": null,
   "metadata": {},
   "outputs": [
    {
     "data": {
      "text/plain": [
       "\"AI: \\nHere is what I know:\\nDirector: Bong Joon-ho\\nStarring: Song Kang-ho, Lee Sun-kyun, Cho Yeo-jeong, Choi Woo-shik, Park So-dam\\nBudget: $11 million\\nBox office revenue: $266.8 million\\nGenre: Thriller, Drama\\nSynopsis: Parasite is a South Korean film that follows the Kim family, who are struggling to make ends meet. They slowly infiltrate the wealthy Park family's household by posing as unrelated, highly qualified individuals. As the two families become increasingly intertwined, tensions rise and secrets are revealed, leading to a shocking and unexpected turn of events. The film explores themes of class inequality, social hierarchy, and the consequences of greed. Parasite made history by becoming the first non-English language film to win the Academy Award for Best Picture.\""
      ]
     },
     "execution_count": 5,
     "metadata": {},
     "output_type": "execute_result"
    }
   ],
   "source": [
    "completion = chain.invoke({\"movie\": \"Parasite\"})\n",
    "print(completion.content)"
   ]
  }
 ],
 "metadata": {
  "kernelspec": {
   "display_name": "env",
   "language": "python",
   "name": "python3"
  },
  "language_info": {
   "codemirror_mode": {
    "name": "ipython",
    "version": 3
   },
   "file_extension": ".py",
   "mimetype": "text/x-python",
   "name": "python",
   "nbconvert_exporter": "python",
   "pygments_lexer": "ipython3",
   "version": "3.13.2"
  }
 },
 "nbformat": 4,
 "nbformat_minor": 2
}
