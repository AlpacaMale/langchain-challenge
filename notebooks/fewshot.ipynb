{
 "cells": [
  {
   "cell_type": "code",
   "execution_count": 1,
   "metadata": {},
   "outputs": [],
   "source": [
    "from langchain_openai import ChatOpenAI\n",
    "from langchain.prompts import PromptTemplate\n",
    "from langchain.prompts.few_shot import FewShotPromptTemplate\n",
    "\n",
    "chat = ChatOpenAI(temperature=0.1)\n",
    "\n",
    "example = [\n",
    "    {\n",
    "        \"question\": \"What do you know about movie Ironman?\",\n",
    "        \"answer\": \"\"\"\n",
    "Here is what I know:\n",
    "Director: Jon Favreau\n",
    "Starring: Robert Downey Jr., Terrence Howard, Jeff Bridges, Gwyneth Paltrow\n",
    "Budget: 130-140 million\n",
    "Box office revenue: 585 million\n",
    "Genre: Superhero\n",
    "Synopsis: Genius billionaire and weapons manufacturer Tony Stark is captured by a terrorist group while demonstrating his latest missile in the Middle East. Forced to build weapons for his captors, he secretly constructs a powerful, armored suit to escape. Upon returning home, he renounces his weapons business and refines his suit into a high-tech exoskeleton, becoming Iron Man. With his new identity, Tony fights to dismantle the very war machine he once helped create, facing powerful enemies and uncovering a deeper conspiracy that threatens the world.\n",
    "        \"\"\",\n",
    "    }\n",
    "]\n",
    "\n",
    "example_template = \"\"\"\n",
    "Human: {question}\n",
    "AI: {answer}\n",
    "\"\"\"\n",
    "\n",
    "example_prompt = PromptTemplate.from_template(\"Human: {question}\\nAI: {answer}\")\n",
    "\n",
    "prompt = FewShotPromptTemplate(\n",
    "    example_prompt=example_prompt,\n",
    "    examples=example,\n",
    "    suffix=\"Human: What do you know about movie {movie}?\",\n",
    "    input_variables=[\"movie\"],\n",
    ")\n",
    "chain = prompt | chat\n",
    "completion = chain.invoke({\"movie\": \"Parasite\"})"
   ]
  },
  {
   "cell_type": "code",
   "execution_count": 6,
   "metadata": {},
   "outputs": [
    {
     "name": "stdout",
     "output_type": "stream",
     "text": [
      "AI: \n",
      "Here is what I know:\n",
      "Director: Bong Joon-ho\n",
      "Starring: Song Kang-ho, Lee Sun-kyun, Cho Yeo-jeong, Choi Woo-shik, Park So-dam\n",
      "Budget: $11 million\n",
      "Box office revenue: $266.8 million\n",
      "Genre: Thriller, Drama\n",
      "Synopsis: Parasite is a South Korean film that follows the Kim family, who are living in poverty and struggling to make ends meet. Through a stroke of luck, the son, Ki-woo, gets a job as a tutor for the wealthy Park family. The Kims then begin to infiltrate the lives of the Parks, each posing as unrelated workers in their household. As their deception unravels, tensions rise and secrets are revealed, leading to a shocking and violent climax. The film explores themes of class struggle, inequality, and the lengths people will go to in order to improve their circumstances.\n"
     ]
    }
   ],
   "source": [
    "print(completion.content)"
   ]
  }
 ],
 "metadata": {
  "kernelspec": {
   "display_name": "env",
   "language": "python",
   "name": "python3"
  },
  "language_info": {
   "codemirror_mode": {
    "name": "ipython",
    "version": 3
   },
   "file_extension": ".py",
   "mimetype": "text/x-python",
   "name": "python",
   "nbconvert_exporter": "python",
   "pygments_lexer": "ipython3",
   "version": "3.13.2"
  }
 },
 "nbformat": 4,
 "nbformat_minor": 2
}
