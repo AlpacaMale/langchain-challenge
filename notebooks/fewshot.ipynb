{
 "cells": [
  {
   "cell_type": "code",
   "execution_count": 1,
   "metadata": {},
   "outputs": [
    {
     "data": {
      "text/plain": [
       "FewShotPromptTemplate(input_variables=['movie'], input_types={}, partial_variables={}, examples=[{'question': 'What do you know about movie Ironman?', 'answer': '\\nHere is what I know:\\nDirector: Jon Favreau\\nStarring: Robert Downey Jr., Terrence Howard, Jeff Bridges, Gwyneth Paltrow\\nBudget: 130-140 million\\nBox office revenue: 585 million\\nGenre: Superhero\\nSynopsis: Genius billionaire and weapons manufacturer Tony Stark is captured by a terrorist group while demonstrating his latest missile in the Middle East. Forced to build weapons for his captors, he secretly constructs a powerful, armored suit to escape. Upon returning home, he renounces his weapons business and refines his suit into a high-tech exoskeleton, becoming Iron Man. With his new identity, Tony fights to dismantle the very war machine he once helped create, facing powerful enemies and uncovering a deeper conspiracy that threatens the world.\\n        '}], example_prompt=PromptTemplate(input_variables=['answer', 'question'], input_types={}, partial_variables={}, template='Human: {question}\\nAI: {answer}'), suffix='Human: What do you know about movie {movie}?')"
      ]
     },
     "execution_count": 1,
     "metadata": {},
     "output_type": "execute_result"
    }
   ],
   "source": [
    "from langchain_openai import ChatOpenAI\n",
    "from langchain.prompts import PromptTemplate\n",
    "from langchain.prompts.few_shot import FewShotPromptTemplate\n",
    "from langchain.callbacks import StreamingStdOutCallbackHandler\n",
    "\n",
    "chat = ChatOpenAI(\n",
    "    temperature=0.1,\n",
    "    streaming=True,\n",
    "    callbacks=[\n",
    "        StreamingStdOutCallbackHandler(),\n",
    "    ],\n",
    ")\n",
    "\n",
    "example = [\n",
    "    {\n",
    "        \"question\": \"What do you know about movie Ironman?\",\n",
    "        \"answer\": \"\"\"\n",
    "Here is what I know:\n",
    "Director: Jon Favreau\n",
    "Starring: Robert Downey Jr., Terrence Howard, Jeff Bridges, Gwyneth Paltrow\n",
    "Budget: 130-140 million\n",
    "Box office revenue: 585 million\n",
    "Genre: Superhero\n",
    "Synopsis: Genius billionaire and weapons manufacturer Tony Stark is captured by a terrorist group while demonstrating his latest missile in the Middle East. Forced to build weapons for his captors, he secretly constructs a powerful, armored suit to escape. Upon returning home, he renounces his weapons business and refines his suit into a high-tech exoskeleton, becoming Iron Man. With his new identity, Tony fights to dismantle the very war machine he once helped create, facing powerful enemies and uncovering a deeper conspiracy that threatens the world.\n",
    "        \"\"\",\n",
    "    }\n",
    "]\n",
    "\n",
    "example_template = \"\"\"\n",
    "Human: {question}\n",
    "AI: {answer}\n",
    "\"\"\"\n",
    "\n",
    "example_prompt = PromptTemplate.from_template(\"Human: {question}\\nAI: {answer}\")\n",
    "\n",
    "prompt = FewShotPromptTemplate(\n",
    "    example_prompt=example_prompt,\n",
    "    examples=example,\n",
    "    suffix=\"Human: What do you know about movie {movie}?\",\n",
    "    input_variables=[\"movie\"],\n",
    ")\n",
    "prompt"
   ]
  },
  {
   "cell_type": "code",
   "execution_count": 2,
   "metadata": {},
   "outputs": [
    {
     "name": "stdout",
     "output_type": "stream",
     "text": [
      "AI: \n",
      "Here is what I know:\n",
      "Director: Bong Joon-ho\n",
      "Starring: Song Kang-ho, Lee Sun-kyun, Cho Yeo-jeong, Choi Woo-shik, Park So-dam\n",
      "Budget: $11 million\n",
      "Box office revenue: $266.8 million\n",
      "Genre: Thriller, Drama\n",
      "Synopsis: Parasite is a South Korean film that follows the Kim family, who are living in poverty and struggling to make ends meet. Through a stroke of luck, the son, Ki-woo, gets a job as a tutor for the wealthy Park family. The Kim family then begins to infiltrate the lives of the Parks, each posing as unrelated workers in their household. As the two families become increasingly entwined, tensions rise and secrets are revealed, leading to a shocking and violent climax. The film explores themes of class inequality, social hierarchy, and the lengths people will go to in order to improve their circumstances."
     ]
    },
    {
     "data": {
      "text/plain": [
       "AIMessage(content='AI: \\nHere is what I know:\\nDirector: Bong Joon-ho\\nStarring: Song Kang-ho, Lee Sun-kyun, Cho Yeo-jeong, Choi Woo-shik, Park So-dam\\nBudget: $11 million\\nBox office revenue: $266.8 million\\nGenre: Thriller, Drama\\nSynopsis: Parasite is a South Korean film that follows the Kim family, who are living in poverty and struggling to make ends meet. Through a stroke of luck, the son, Ki-woo, gets a job as a tutor for the wealthy Park family. The Kim family then begins to infiltrate the lives of the Parks, each posing as unrelated workers in their household. As the two families become increasingly entwined, tensions rise and secrets are revealed, leading to a shocking and violent climax. The film explores themes of class inequality, social hierarchy, and the lengths people will go to in order to improve their circumstances.', additional_kwargs={}, response_metadata={'finish_reason': 'stop', 'model_name': 'gpt-3.5-turbo-0125'}, id='run-2e0f5b36-5ef7-4460-909c-d305b43dbcea-0')"
      ]
     },
     "execution_count": 2,
     "metadata": {},
     "output_type": "execute_result"
    }
   ],
   "source": [
    "chain = prompt | chat\n",
    "chain.invoke({\"movie\": \"Parasite\"})"
   ]
  }
 ],
 "metadata": {
  "kernelspec": {
   "display_name": "env",
   "language": "python",
   "name": "python3"
  },
  "language_info": {
   "codemirror_mode": {
    "name": "ipython",
    "version": 3
   },
   "file_extension": ".py",
   "mimetype": "text/x-python",
   "name": "python",
   "nbconvert_exporter": "python",
   "pygments_lexer": "ipython3",
   "version": "3.13.2"
  }
 },
 "nbformat": 4,
 "nbformat_minor": 2
}
